{
 "cells": [
  {
   "cell_type": "code",
   "execution_count": 9,
   "id": "570155bf",
   "metadata": {},
   "outputs": [],
   "source": [
    "def metodo_euler(ecuacion_diferencial, a, b, h, condicion_inicial):\n",
    "    \"\"\"\n",
    "    Implementacion del metodo de Euler para resolver ecuaciones diferenciales de primer orden.\n",
    "\n",
    "    Parametros:\n",
    "        ecuacion_diferencial : funcion f(t, y) que representa la ecuacion diferencial\n",
    "        condicion_inicial: valor inicial y(t0)\n",
    "        a : limite inferior del intervalo\n",
    "        b : limite superior del intervalo\n",
    "        h : Espaciamiento para generar los valores de t \n",
    "        condicion_inicial: valor inicial y(t0)\n",
    "        \n",
    "    Retorna:\n",
    "        tiempos (list): lista de tiempos t\n",
    "        valores (list): lista de soluciones y(t)\n",
    "    \"\"\"\n",
    "\n",
    "# Calcular número de pasos (convertido a entero)\n",
    "    n = int((b - a) / h)\n",
    "\n",
    "    valores = [condicion_inicial]\n",
    "    \n",
    "    for i in range(n):\n",
    "        y = valores[i] + h * ecuacion_diferencial(a + i*h, valores[i])\n",
    "        valores.append(y)\n",
    "\n",
    "    return valores"
   ]
  },
  {
   "cell_type": "markdown",
   "id": "542ddf5d",
   "metadata": {},
   "source": [
    "![Texto alternativo](imagenes/WhatsApp%20Image%202025-05-15%20at%2012.29.26%20PM.jpeg)\n"
   ]
  },
  {
   "cell_type": "code",
   "execution_count": 10,
   "id": "1172af00",
   "metadata": {},
   "outputs": [
    {
     "data": {
      "text/plain": [
       "[0,\n",
       " np.float64(0.0),\n",
       " np.float64(0.13231250103829217),\n",
       " np.float64(0.6263673843114042),\n",
       " np.float64(2.092134161472926)]"
      ]
     },
     "execution_count": 10,
     "metadata": {},
     "output_type": "execute_result"
    }
   ],
   "source": [
    "import numpy as np\n",
    "\n",
    "f = lambda t,y : t*np.exp(3*t)-2*y\n",
    "metodo_euler(f, 0, 1, 0.25, 0)"
   ]
  },
  {
   "cell_type": "markdown",
   "id": "f967334e",
   "metadata": {},
   "source": [
    "![Texto alternativo](imagenes/)"
   ]
  },
  {
   "cell_type": "code",
   "execution_count": 11,
   "id": "6e555a34",
   "metadata": {},
   "outputs": [],
   "source": [
    "def f(t, u):\n",
    "    \"\"\"\n",
    "    Cambia la ecuacion diferencial\n",
    "\n",
    "    u = arreglo de variables u = [w,z] es decir que f(t, [w,z])\n",
    "\n",
    "    \"\"\"\n",
    "\n",
    "    w = u[0]\n",
    "    z = u[1]\n",
    "    n = len(u)\n",
    "    y = np.zeros(n)\n",
    "    y[0] = z # Ecuacion 1\n",
    "    y[1] = t * np.exp(t)-t+2*z-w\n",
    "    return y"
   ]
  },
  {
   "cell_type": "code",
   "execution_count": 12,
   "id": "6c91ac46",
   "metadata": {},
   "outputs": [
    {
     "data": {
      "text/plain": [
       "[[0, 0],\n",
       " array([0., 0.]),\n",
       " array([0.        , 0.01775159]),\n",
       " array([0.0044379 , 0.10771754]),\n",
       " array([0.03136728, 0.36990434])]"
      ]
     },
     "execution_count": 12,
     "metadata": {},
     "output_type": "execute_result"
    }
   ],
   "source": [
    "metodo_euler(f, 0, 1, 0.25, [0,0])"
   ]
  }
 ],
 "metadata": {
  "kernelspec": {
   "display_name": "venv",
   "language": "python",
   "name": "python3"
  },
  "language_info": {
   "codemirror_mode": {
    "name": "ipython",
    "version": 3
   },
   "file_extension": ".py",
   "mimetype": "text/x-python",
   "name": "python",
   "nbconvert_exporter": "python",
   "pygments_lexer": "ipython3",
   "version": "3.12.3"
  }
 },
 "nbformat": 4,
 "nbformat_minor": 5
}

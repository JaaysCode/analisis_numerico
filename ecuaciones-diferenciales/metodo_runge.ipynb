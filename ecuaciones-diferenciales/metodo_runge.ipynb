{
 "cells": [
  {
   "cell_type": "code",
   "execution_count": null,
   "id": "b8c6e824",
   "metadata": {},
   "outputs": [],
   "source": [
    "def runge4(f, a, b, h, co):\n",
    "\n",
    "    wrk = [co]\n",
    "\n",
    "    n = int((b - a) / h)\n",
    "    for i in range(n):\n",
    "        k1 = h * f(a+i * h, wrk[i])\n",
    "        k2 = h * f(a + i * h + 0.5 * h, wrk[i] + 0.5 * k1)\n",
    "        k3 = h * f(a + i * h + 0.5 * h, wrk[i] + 0.5 * k2)\n",
    "        k4 = h * f(a + (i + 1) * h , wrk[i] + k3)\n",
    "        wrk.append(wrk[i] + (1/6) * (k1 + 2 * k2 + 2 * k3 + k4))\n",
    "    return wrk"
   ]
  }
 ],
 "metadata": {
  "kernelspec": {
   "display_name": "venv",
   "language": "python",
   "name": "python3"
  },
  "language_info": {
   "name": "python",
   "version": "3.12.3"
  }
 },
 "nbformat": 4,
 "nbformat_minor": 5
}
